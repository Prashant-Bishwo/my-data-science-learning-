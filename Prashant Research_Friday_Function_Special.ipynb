{
  "cells": [
    {
      "cell_type": "markdown",
      "id": "e59472d8",
      "metadata": {
        "id": "e59472d8"
      },
      "source": [
        "# Function\n",
        "\n",
        "### You need to have good understanding of the following topic. Once you do, then you are good with function foundation."
      ]
    },
    {
      "cell_type": "markdown",
      "id": "6afa6f10",
      "metadata": {
        "id": "6afa6f10"
      },
      "source": [
        "## Functions:\n",
        "\n",
        "1. Definition and importance of functions in programming.\n",
        "2. How to define and call a function in Python.\n",
        "3. Examples of built-in functions and user-defined functions.\n",
        "\n",
        "\n",
        "## Global Variables:\n",
        "\n",
        "1. Definition of global variables.\n",
        "2. Scope of global variables.\n",
        "3. When to use global variables and their potential downsides.\n",
        "\n",
        "\n",
        "## Local Variables:\n",
        "\n",
        "1. Definition of local variables.\n",
        "2. Scope of local variables.\n",
        "3. The lifecycle of a local variable within a function.\n",
        "\n",
        "\n",
        "## Parameters and Arguments:\n",
        "\n",
        "1. Definition and difference between parameters and arguments.\n",
        "2. Types of arguments: positional arguments, keyword arguments, default arguments, and variable-length arguments.\n",
        "3. Passing arguments to functions.\n",
        "\n",
        "\n",
        "\n",
        "## Lambda Function\n",
        "1. Defination of Lamnda function\n",
        "2. Its namture\n",
        "3. How to use"
      ]
    },
    {
      "cell_type": "markdown",
      "id": "e989922c",
      "metadata": {
        "id": "e989922c"
      },
      "source": [
        "--------\n",
        "# Study this code and answer the following"
      ]
    },
    {
      "cell_type": "code",
      "execution_count": null,
      "id": "b0c7fc20",
      "metadata": {
        "id": "b0c7fc20",
        "outputId": "a5865512-0355-4a64-cf27-fd8cad385f9e"
      },
      "outputs": [
        {
          "name": "stdout",
          "output_type": "stream",
          "text": [
            "Inside the function:\n",
            "param1: Hello\n",
            "param2: World\n",
            "local_var: I am a local variable\n",
            "global_var: I am a global variable\n",
            "Outside the function:\n",
            "global_var: I am a global variable\n"
          ]
        }
      ],
      "source": [
        "\n",
        "global_var = \"I am a global variable\"\n",
        "\n",
        "def my_function(param1, param2):\n",
        "\n",
        "    local_var = \"I am a local variable\"\n",
        "    print(\"Inside the function:\")\n",
        "    print(\"param1:\", param1)\n",
        "    print(\"param2:\", param2)\n",
        "    print(\"local_var:\", local_var)\n",
        "    print(\"global_var:\", global_var)\n",
        "\n",
        "\n",
        "my_function(\"Hello\", \"World\")\n",
        "\n",
        "\n",
        "print(\"Outside the function:\")\n",
        "print(\"global_var:\", global_var)\n"
      ]
    },
    {
      "cell_type": "markdown",
      "id": "6ebed203",
      "metadata": {
        "id": "6ebed203"
      },
      "source": [
        "# Q1. What is the purpose of the \"my_function\" function in the provided code?"
      ]
    },
    {
      "cell_type": "code",
      "execution_count": 1,
      "id": "560f3071",
      "metadata": {
        "colab": {
          "base_uri": "https://localhost:8080/",
          "height": 53
        },
        "id": "560f3071",
        "outputId": "e6dc594d-19f0-4961-be20-588bf6421f41"
      },
      "outputs": [
        {
          "data": {
            "application/vnd.google.colaboratory.intrinsic+json": {
              "type": "string"
            },
            "text/plain": [
              "\"The purpose of the my_function function in the provided code is to:\\n\\nTake two parameters, param1 and param2.\\n To define a local variable local_var.\\nPrint the values of param1, param2, local_var, and a global variable global_var within the function's scope.\""
            ]
          },
          "execution_count": 1,
          "metadata": {},
          "output_type": "execute_result"
        }
      ],
      "source": [
        "# Answer below Here\n",
        "'''The purpose of the my_function function in the provided code is to:\n",
        "To take two parameters, param1 and param2.\n",
        "To define a local variable local_var.\n",
        "To print the values of param1, param2, local_var, and a global variable global_var within the function's scope.'''\n"
      ]
    },
    {
      "cell_type": "markdown",
      "id": "bb7f5453",
      "metadata": {
        "id": "bb7f5453"
      },
      "source": [
        "# Q2. Identify the global variable and Local varibale  in the code and explain its scope."
      ]
    },
    {
      "cell_type": "code",
      "execution_count": null,
      "id": "38607ba5",
      "metadata": {
        "id": "38607ba5"
      },
      "outputs": [],
      "source": [
        "# Answer below Here\n",
        "# global_var is the global varible in this code.This variable is defined outside of any function, making it a global variable.\n",
        "#Its scope is, it can be accessed and modified from anywhere in the code, both inside and outside of functions."
      ]
    },
    {
      "cell_type": "markdown",
      "id": "b0911720",
      "metadata": {
        "id": "b0911720"
      },
      "source": [
        "# Q3. What are the parameters of the my_function function? How are they used within the function?\n"
      ]
    },
    {
      "cell_type": "code",
      "execution_count": null,
      "id": "cd40abb9",
      "metadata": {
        "id": "cd40abb9"
      },
      "outputs": [],
      "source": [
        "# Answer below here\n",
        "#The parameters of the my_function function are param1 and param2.\n",
        "#These parameters are used to pass values into the function when it is called.\n",
        "\n"
      ]
    },
    {
      "cell_type": "markdown",
      "id": "57c0d4ba",
      "metadata": {
        "id": "57c0d4ba"
      },
      "source": [
        "# Q4: When the function my_function is called with the arguments \"Hello\" and \"World\", what values are assigned to param1 and param2?"
      ]
    },
    {
      "cell_type": "code",
      "execution_count": null,
      "id": "9ef8e570",
      "metadata": {
        "id": "9ef8e570"
      },
      "outputs": [],
      "source": [
        "# Answer below here\n",
        "#param1 is assigned with the value \"Hello\".\n",
        "#param2 is assigned with the value \"World\"\n",
        "\n"
      ]
    },
    {
      "cell_type": "markdown",
      "id": "b24670c4",
      "metadata": {
        "id": "b24670c4"
      },
      "source": [
        "# Q5: Modify the code to include a new local variable local_var2 within my_function and print its value inside the function.\n",
        "### You can add any value"
      ]
    },
    {
      "cell_type": "code",
      "execution_count": 2,
      "id": "b7e96f22",
      "metadata": {
        "colab": {
          "base_uri": "https://localhost:8080/"
        },
        "id": "b7e96f22",
        "outputId": "020188d4-6380-4b09-e7e1-37405ae8e779"
      },
      "outputs": [
        {
          "name": "stdout",
          "output_type": "stream",
          "text": [
            "Inside the function:\n",
            "param1: Hello\n",
            "param2: World\n",
            "local_var: I am a local variable\n",
            "local_var2: I am a new local variable\n",
            "global_var: I am a global variable\n",
            "Outside the function:\n",
            "global_var: I am a global variable\n"
          ]
        }
      ],
      "source": [
        "# Answer below here\n",
        "global_var = \"I am a global variable\"\n",
        "\n",
        "def my_function(param1, param2):\n",
        "    local_var = \"I am a local variable\"\n",
        "    local_var2 = \"I am a new local variable\"\n",
        "    print(\"Inside the function:\")\n",
        "    print(\"param1:\", param1)\n",
        "    print(\"param2:\", param2)\n",
        "    print(\"local_var:\", local_var)\n",
        "    print(\"local_var2:\", local_var2)\n",
        "    print(\"global_var:\", global_var)\n",
        "\n",
        "my_function(\"Hello\", \"World\")\n",
        "\n",
        "print(\"Outside the function:\")\n",
        "print(\"global_var:\", global_var)\n"
      ]
    },
    {
      "cell_type": "markdown",
      "id": "8e7ae6a3",
      "metadata": {
        "id": "8e7ae6a3"
      },
      "source": [
        "# Q6: Modify the code to include a new local variable local_var2 within my_function and print its value inside the function."
      ]
    },
    {
      "cell_type": "code",
      "execution_count": 3,
      "id": "9c6750ad",
      "metadata": {
        "colab": {
          "base_uri": "https://localhost:8080/"
        },
        "id": "9c6750ad",
        "outputId": "9d46a06e-40dd-4e75-8950-e74c62ee1779"
      },
      "outputs": [
        {
          "name": "stdout",
          "output_type": "stream",
          "text": [
            "Inside the function:\n",
            "param1: Hello\n",
            "param2: World\n",
            "local_var: I am a local variable\n",
            "local_var2: I am another new local variable\n",
            "global_var: I am a global variable\n",
            "Outside the function:\n",
            "global_var: I am a global variable\n"
          ]
        }
      ],
      "source": [
        "# Answer below here\n",
        "global_var = \"I am a global variable\"\n",
        "\n",
        "def my_function(param1, param2):\n",
        "    local_var = \"I am a local variable\"\n",
        "    local_var2 = \"I am another new local variable\"\n",
        "    print(\"Inside the function:\")\n",
        "    print(\"param1:\", param1)\n",
        "    print(\"param2:\", param2)\n",
        "    print(\"local_var:\", local_var)\n",
        "    print(\"local_var2:\", local_var2)\n",
        "    print(\"global_var:\", global_var)\n",
        "\n",
        "my_function(\"Hello\", \"World\")\n",
        "\n",
        "print(\"Outside the function:\")\n",
        "print(\"global_var:\", global_var)\n"
      ]
    },
    {
      "cell_type": "markdown",
      "id": "2ac7b31d",
      "metadata": {
        "id": "2ac7b31d"
      },
      "source": [
        "# Q7: Modify the code to change the value of the global variable global_var inside the function my_function. What happens to the global variable when you print it outside the function after modifying it inside the function? Explain your observation.\n",
        "\n",
        "### Hint-- try to use global keyword inside the function"
      ]
    },
    {
      "cell_type": "code",
      "execution_count": 5,
      "id": "b040d9d4",
      "metadata": {
        "colab": {
          "base_uri": "https://localhost:8080/",
          "height": 174
        },
        "id": "b040d9d4",
        "outputId": "74d952ef-2f37-426d-b3e8-c4f6368ed74d"
      },
      "outputs": [
        {
          "name": "stdout",
          "output_type": "stream",
          "text": [
            "Inside the function:\n",
            "param1: Hello\n",
            "param2: World\n",
            "local_var: I am a local variable\n",
            "local_var2: I am another local variable\n",
            "global_var: I am a modified global variable\n",
            "Outside the function:\n",
            "global_var: I am a modified global variable\n"
          ]
        },
        {
          "data": {
            "application/vnd.google.colaboratory.intrinsic+json": {
              "type": "string"
            },
            "text/plain": [
              "'changes made to the global variable inside the function persist outside the\\n function, as the global variable global_var is shared across the entire script.'"
            ]
          },
          "execution_count": 5,
          "metadata": {},
          "output_type": "execute_result"
        }
      ],
      "source": [
        "# Answer below here\n",
        "\n",
        "global_var = \"I am a global variable\"\n",
        "\n",
        "def my_function(param1, param2):\n",
        "    global global_var\n",
        "    local_var = \"I am a local variable\"\n",
        "    local_var2 = \"I am another local variable\"\n",
        "    global_var = \"I am a modified global variable\"\n",
        "    print(\"Inside the function:\")\n",
        "    print(\"param1:\", param1)\n",
        "    print(\"param2:\", param2)\n",
        "    print(\"local_var:\", local_var)\n",
        "    print(\"local_var2:\", local_var2)\n",
        "    print(\"global_var:\", global_var)\n",
        "\n",
        "my_function(\"Hello\", \"World\")\n",
        "\n",
        "print(\"Outside the function:\")\n",
        "print(\"global_var:\", global_var)\n",
        "\n",
        "'''changes made to the global variable inside the function persist outside the\n",
        " function, as the global variable global_var is shared across the entire script.'''"
      ]
    },
    {
      "cell_type": "markdown",
      "id": "d0eb1586",
      "metadata": {
        "id": "d0eb1586"
      },
      "source": [
        "# Q8: Complete the code for a Lambda function to fund the modulus of any two number\n",
        "\n",
        "You need to fill by replaceing <-- Fill in this part -->\n",
        "\n",
        "Example:\n",
        "```\n",
        "a = a + <-- Fill in this part -->\n",
        "```\n",
        "\n",
        "So I do as\n",
        "```\n",
        "a = a + b\n",
        "```\n"
      ]
    },
    {
      "cell_type": "code",
      "execution_count": 11,
      "id": "d124eb7a",
      "metadata": {
        "colab": {
          "base_uri": "https://localhost:8080/"
        },
        "id": "d124eb7a",
        "outputId": "2ac52725-c009-4ff4-bdc6-e32cb0c8d524"
      },
      "outputs": [
        {
          "name": "stdout",
          "output_type": "stream",
          "text": [
            "10 % 3 = 1\n",
            "20 % 7 = 6\n",
            "15 % 4 = 3\n"
          ]
        }
      ],
      "source": [
        "# Lambda function to find the modulus of two numbers(x,y)\n",
        "modulus_lambda = lambda x, y: x % y # <-- Fill in this part -->\n",
        "\n",
        "# Testing the lambda function with different pairs of numbers\n",
        "result1 = modulus_lambda(10, 3)\n",
        "result2 = modulus_lambda(20, 7)\n",
        "result3 = modulus_lambda(15, 4)\n",
        "\n",
        "# Printing the results\n",
        "print(\"10 % 3 =\", result1)\n",
        "print(\"20 % 7 =\", result2)\n",
        "print(\"15 % 4 =\", result3)"
      ]
    },
    {
      "cell_type": "markdown",
      "id": "a1294671",
      "metadata": {
        "id": "a1294671"
      },
      "source": [
        "## Take this quiz ans share you score as screenshot here\n"
      ]
    },
    {
      "cell_type": "markdown",
      "id": "f1217c0e",
      "metadata": {
        "id": "f1217c0e"
      },
      "source": [
        "https://pynative.com/python-functions-quiz/"
      ]
    },
    {
      "cell_type": "code",
      "execution_count": null,
      "id": "c5cb59c8",
      "metadata": {
        "id": "c5cb59c8"
      },
      "outputs": [],
      "source": [
        "#Screenshot here"
      ]
    },
    {
      "cell_type": "code",
      "execution_count": null,
      "id": "6d62ff3d",
      "metadata": {
        "id": "6d62ff3d"
      },
      "outputs": [],
      "source": []
    }
  ],
  "metadata": {
    "colab": {
      "provenance": []
    },
    "kernelspec": {
      "display_name": "Python 3 (ipykernel)",
      "language": "python",
      "name": "python3"
    },
    "language_info": {
      "codemirror_mode": {
        "name": "ipython",
        "version": 3
      },
      "file_extension": ".py",
      "mimetype": "text/x-python",
      "name": "python",
      "nbconvert_exporter": "python",
      "pygments_lexer": "ipython3",
      "version": "3.10.10"
    }
  },
  "nbformat": 4,
  "nbformat_minor": 5
}
