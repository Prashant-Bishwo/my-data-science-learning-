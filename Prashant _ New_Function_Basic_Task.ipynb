{
  "cells": [
    {
      "cell_type": "markdown",
      "id": "a63234cc",
      "metadata": {
        "id": "a63234cc"
      },
      "source": [
        "![img](https://ytu-cvlab.github.io/mce-51069/images/copied_from_nb/images/function.jpeg)"
      ]
    },
    {
      "cell_type": "markdown",
      "id": "0f0c84d1",
      "metadata": {
        "id": "0f0c84d1"
      },
      "source": [
        "# What is the Syntac of user-defined function?"
      ]
    },
    {
      "cell_type": "code",
      "execution_count": 13,
      "id": "5c7664de",
      "metadata": {
        "colab": {
          "base_uri": "https://localhost:8080/",
          "height": 176
        },
        "id": "5c7664de",
        "outputId": "0775638e-4912-4100-ffef-9c4ce417a689"
      },
      "outputs": [
        {
          "output_type": "error",
          "ename": "TypeError",
          "evalue": "function_name() missing 1 required positional argument: 'parameters'",
          "traceback": [
            "\u001b[0;31m---------------------------------------------------------------------------\u001b[0m",
            "\u001b[0;31mTypeError\u001b[0m                                 Traceback (most recent call last)",
            "\u001b[0;32m<ipython-input-13-c12e1ba4ee85>\u001b[0m in \u001b[0;36m<cell line: 7>\u001b[0;34m()\u001b[0m\n\u001b[1;32m      5\u001b[0m     \u001b[0;32mreturn\u001b[0m \u001b[0mfunction\u001b[0m\u001b[0;34m\u001b[0m\u001b[0;34m\u001b[0m\u001b[0m\n\u001b[1;32m      6\u001b[0m \u001b[0;31m#Call the function with argument\u001b[0m\u001b[0;34m\u001b[0m\u001b[0;34m\u001b[0m\u001b[0m\n\u001b[0;32m----> 7\u001b[0;31m \u001b[0mfunction_name\u001b[0m\u001b[0;34m(\u001b[0m\u001b[0;34m)\u001b[0m\u001b[0;34m\u001b[0m\u001b[0;34m\u001b[0m\u001b[0m\n\u001b[0m",
            "\u001b[0;31mTypeError\u001b[0m: function_name() missing 1 required positional argument: 'parameters'"
          ]
        }
      ],
      "source": [
        "# Write Syntac below\n",
        "\n",
        "def function_name(parameters):\n",
        "    #Return statement\n",
        "    return value\n",
        "#Call the function"
      ]
    },
    {
      "cell_type": "markdown",
      "id": "95a82df7",
      "metadata": {
        "id": "95a82df7"
      },
      "source": [
        "# Task 1: Define a Function"
      ]
    },
    {
      "cell_type": "code",
      "execution_count": null,
      "id": "102b3ecb",
      "metadata": {
        "id": "102b3ecb"
      },
      "outputs": [],
      "source": [
        "# Define a function called `greet` that takes a single parameter `name`.\n",
        "# The purpose of this function is to print a greeting message that says \"Hello, [name]!\".\n",
        "# For example, calling greet(\"Alice\") should output \"Hello, Alice!\"."
      ]
    },
    {
      "cell_type": "code",
      "source": [
        "def greet(name):\n",
        "    print(f\"Hello, {name}\")\n",
        "greet(\"Alice\")"
      ],
      "metadata": {
        "colab": {
          "base_uri": "https://localhost:8080/"
        },
        "id": "HxhaUQWvt-iq",
        "outputId": "1ecb4ae7-b7e9-486d-8bec-46a37e33afed"
      },
      "id": "HxhaUQWvt-iq",
      "execution_count": 7,
      "outputs": [
        {
          "output_type": "stream",
          "name": "stdout",
          "text": [
            "Hello, Alice\n"
          ]
        }
      ]
    },
    {
      "cell_type": "markdown",
      "id": "691a4aa0",
      "metadata": {
        "id": "691a4aa0"
      },
      "source": [
        "# Task 2: Call the Function"
      ]
    },
    {
      "cell_type": "code",
      "execution_count": null,
      "id": "8db69a6b",
      "metadata": {
        "id": "8db69a6b"
      },
      "outputs": [],
      "source": [
        "# After defining the function, call it with different names to see the output.\n",
        "# You should call the function at least three times with different names"
      ]
    },
    {
      "cell_type": "code",
      "execution_count": 8,
      "id": "4dcb10ba",
      "metadata": {
        "colab": {
          "base_uri": "https://localhost:8080/"
        },
        "id": "4dcb10ba",
        "outputId": "8a2f39be-b0f5-47c5-fa65-2a833ef7e054"
      },
      "outputs": [
        {
          "output_type": "stream",
          "name": "stdout",
          "text": [
            "Hello, Alice\n",
            "Hello, Prashant \n",
            "Hello, Mala Sir \n",
            "Hello, Ujwal\n",
            "Hello, Roshan\n"
          ]
        }
      ],
      "source": [
        "# Write your code here\n",
        "def greet(name):\n",
        "  print(f\"Hello, {name}\")\n",
        "greet (\"Alice\")\n",
        "greet(\"Prashant \")\n",
        "greet(\"Mala Sir \")\n",
        "greet(\"Ujwal\")\n",
        "greet(\"Roshan\")"
      ]
    },
    {
      "cell_type": "markdown",
      "id": "ba477a96",
      "metadata": {
        "id": "ba477a96"
      },
      "source": [
        "# Task 3: Experiment with Different Inputs"
      ]
    },
    {
      "cell_type": "code",
      "execution_count": 12,
      "id": "2f3d4ca0",
      "metadata": {
        "colab": {
          "base_uri": "https://localhost:8080/"
        },
        "id": "2f3d4ca0",
        "outputId": "812c3517-d18e-45f8-b2de-ca1a9cc381d7"
      },
      "outputs": [
        {
          "output_type": "stream",
          "name": "stdout",
          "text": [
            "hello ()\n",
            "Hello, !@#!\n",
            "Hello, 123!\n"
          ]
        }
      ],
      "source": [
        "# Try calling the `greet` function with different types of inputs:\n",
        "# and observe and note down what happens with each type of input.\n",
        "\n",
        "\n",
        "# - A string with a different name (e.g., greet(\"Dave\"))\n",
        "\n",
        "\n",
        "\n",
        "# - An empty string (e.g., greet(\"\"))\n",
        "def greet():\n",
        "  print(\"hello\", ())\n",
        "greet()\n",
        "\n",
        "# - A string with special characters (e.g., greet(\"!@#\"))\n",
        "def greet(name):\n",
        "    print(f\"Hello, {name}!\")\n",
        "greet(\"!@#\")\n",
        "\n",
        "# - A non-string input (e.g., greet(123))\n",
        "def greet(name):\n",
        "    print(f\"Hello, {name}!\")\n",
        "greet(123)\n",
        "\n"
      ]
    },
    {
      "cell_type": "markdown",
      "id": "760f2010",
      "metadata": {
        "id": "760f2010"
      },
      "source": [
        "# Write down your observations on how the `greet` function behaves with different inputs.\n",
        "**A string with a different name (e.g., greet(\"Dave\")):** the function properly handles regular string inputs and integrates them into the greeting message.\n",
        "An empty string (e.g., greet(\"\")):\n",
        "**The function prints \"Hello, !\"**:  the function does not perform any validation or modification on the input string. It directly integrates the input into the greeting, even if it is an empty string.\n",
        "**A string with special characters (e.g., greet(\"!@#\")):**\n",
        "The function prints \"Hello, !@#!\". This demonstrates that the function can handle strings with special characters without any issues, treating them just like any other string input.\n",
        "**A non-string input (e.g., greet(123)):**\n",
        "The function prints \"Hello, 123!\" . The Python's f-string formatting automatically converts non-string inputs (such as integers) to strings when constructing the output message.\n",
        "# and write in paragraph about what you undestood about function\n",
        "Functions in Python are reusable blocks of code designed to perform a specific task. They can take inputs, process those inputs, and return a value. The greet function exemplifies this by taking a single parameter name and using it to print a personalized greeting message. Key aspects of functions include:\n",
        "Definition and Invocation:Functions are defined using the def keyword followed by the function name and parentheses enclosing any parameters.\n",
        "Parameters and Arguments: Functions can accept parameters, which allow them to operate on different data provided at runtime. These parameters are specified in the function definition and passed as arguments during the function call.\n",
        "ode Reusability: Functions promote code reusability. Once defined, a function can be called multiple times with different arguments, reducing the need to rewrite code.\n",
        "Error Handling: Functions can handle different types of inputs gracefully, as seen with the greet function handling strings, empty strings, special characters, and non-string inputs. However, functions may raise errors if required parameters are not provided, as demonstrated by the TypeError when greet is called without any argument."
      ]
    },
    {
      "cell_type": "code",
      "execution_count": null,
      "id": "f773705e",
      "metadata": {
        "id": "f773705e"
      },
      "outputs": [],
      "source": []
    }
  ],
  "metadata": {
    "kernelspec": {
      "display_name": "Python 3 (ipykernel)",
      "language": "python",
      "name": "python3"
    },
    "language_info": {
      "codemirror_mode": {
        "name": "ipython",
        "version": 3
      },
      "file_extension": ".py",
      "mimetype": "text/x-python",
      "name": "python",
      "nbconvert_exporter": "python",
      "pygments_lexer": "ipython3",
      "version": "3.10.10"
    },
    "colab": {
      "provenance": []
    }
  },
  "nbformat": 4,
  "nbformat_minor": 5
}