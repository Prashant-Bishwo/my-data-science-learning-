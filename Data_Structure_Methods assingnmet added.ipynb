{
  "cells": [
    {
      "cell_type": "markdown",
      "id": "7c6627e5",
      "metadata": {
        "id": "7c6627e5"
      },
      "source": [
        "## Data Structure Methods\n",
        "\n",
        "\n",
        "![](https://devopedia.org/images/article/41/8174.1595680354.png)\n",
        "\n",
        "\n",
        "Python provides various built-in data structures, each with its own set of methods for manipulating and accessing data.\n",
        "\n",
        "Here are the common methods for the main Python data structures that we will try out.\n",
        "\n",
        "\n"
      ]
    },
    {
      "cell_type": "markdown",
      "id": "8c6079f7",
      "metadata": {
        "id": "8c6079f7"
      },
      "source": [
        "v# List Methods\n",
        "\n",
        "- **append(x)**: Adds an item to the end of the list.\n",
        "- **extend(iterable)**: Extends the list by adding all items from an iterable (list, range, etc.).\n",
        "- **insert(i, x)**: Inserts an item at a given position *i*.\n",
        "- **remove(x)**: Removes the first item from the list whose value is *x*.\n",
        "- **pop([i])**: Removes the item at the given position *i* and returns it. If no index is specified, it removes and returns the last item.\n",
        "- **index(x)**: Returns the index of the first item whose value is *x*.\n",
        "- **count(x)**: Returns the number of times *x* appears in the list.\n",
        "- **sort(key=..., reverse=...)**: Sorts the items of the list in place.\n",
        "- **reverse()**: Reverses the elements of the list in place.\n",
        "\n",
        "# Dictionary Methods\n",
        "\n",
        "- **keys()**: Returns a view object containing the dictionary's keys.\n",
        "- **values()**: Returns a view object containing the dictionary's values.\n",
        "- **items()**: Returns a view object containing the dictionary's key-value pairs.\n",
        "- **get(key, default=None)**: Returns the value for *key* if *key* is in the dictionary, else *default*.\n",
        "- **pop(key, default)**: Removes the key-value pair with the given *key* and returns the value. If *key* is not found, it returns *default*.\n",
        "- **update(dict2)**: Updates the dictionary with the key-value pairs from *dict2*.\n",
        "\n",
        "# Set Methods\n",
        "\n",
        "- **add(elem)**: Adds an element to the set.\n",
        "- **remove(elem)**: Removes the element from the set. Raises a `KeyError` if *elem* is not contained in the set.\n",
        "- **discard(elem)**: Removes the element from the set if it is present.\n",
        "- **pop()**: Removes and returns an arbitrary element from the set.\n",
        "- **union(set2)**: Returns a new set with elements from both sets.\n",
        "- **intersection(set2)**: Returns a new set with elements common to both sets.\n",
        "- **difference(set2)**: Returns a new set with elements in the set that are not in *set2*.\n",
        "\n",
        "# Tuple Methods\n",
        "\n",
        "Tuples are immutable, so they have fewer methods compared to lists:\n",
        "\n",
        "- **count(x)**: Returns the number of times *x* appears in the tuple.\n",
        "- **index(x)**: Returns the index of the first item whose value is *x*.\n"
      ]
    },
    {
      "cell_type": "markdown",
      "id": "c5d16328",
      "metadata": {
        "id": "c5d16328"
      },
      "source": [
        "### Recommended Reading\n",
        "\n",
        "https://www.stationx.net/python-data-structures-cheat-sheet/\n",
        "### You can get more about this methods into documentation\n",
        "https://docs.python.org/3/tutorial/datastructures.html\n",
        "\n",
        "> Remember, in order to show to the screen, you need to use print() statement"
      ]
    },
    {
      "cell_type": "markdown",
      "id": "21cf4040",
      "metadata": {
        "id": "21cf4040"
      },
      "source": [
        "# List"
      ]
    },
    {
      "cell_type": "code",
      "execution_count": 28,
      "id": "80157d46",
      "metadata": {
        "colab": {
          "base_uri": "https://localhost:8080/"
        },
        "id": "80157d46",
        "outputId": "ce53d3ad-4694-4035-fd6d-274911b804c8"
      },
      "outputs": [
        {
          "output_type": "stream",
          "name": "stdout",
          "text": [
            "['Banana', 'Orange', 'cherry', 'Watermelon', 'Pineapple', 'Kiwi', 'Papaya', 'Dragonfruit']\n",
            "['Banana', 'KIWI', 'Orange', 'cherry', 'Watermelon', 'Pineapple', 'Kiwi', 'Papaya', 'Dragonfruit']\n",
            "0\n"
          ]
        }
      ],
      "source": [
        "# Creation: Create a list of your favorite fruits # Fruits can be - \"apple\", \"banana\", \"cherry\", \"date\", \"elderberry\"\n",
        "\n",
        "my_favourite_fruits = [\"Mango\", \"Banana\", \"Grapes\", \"cherry\", \"Watermelon\", \"Pineapple\"]\n",
        "\n",
        "\n",
        "# Access: Access the second item in the list.\n",
        "my_favourite_fruits[1]\n",
        "\n",
        "# Update: Change the third item to \"orange\".\n",
        "my_favourite_fruits[2] = \"Orange\"\n",
        "\n",
        "# Remove: Remove the first item from the list.\n",
        "my_favourite_fruits.remove(\"Mango\")\n",
        "\n",
        "\n",
        "# Extend your list with the new fruits and print the updated list.\n",
        "my_favourite_fruits.extend([\"Kiwi\", \"Papaya\", \"Dragonfruit\"])\n",
        "print(my_favourite_fruits)\n",
        "\n",
        "# Insert \"kiwi\" at the second position in your list and print the updated list.\n",
        "my_favourite_fruits.insert(1, \"KIWI\")\n",
        "print(my_favourite_fruits)\n",
        "\n",
        "# Count and print the number of times \"apple\" appears in your list.\n",
        "apple_count = my_favourite_fruits.count(\"apple\")\n",
        "print(apple_count)\n",
        "\n",
        "# Reverse the order of your list and print the reversed list.\n",
        "my_favourite_fruits.reverse()\n",
        "\n",
        "# Sort the list in alphabetical order.\n",
        "my_favourite_fruits.sort()\n"
      ]
    },
    {
      "cell_type": "markdown",
      "id": "060b720b",
      "metadata": {
        "id": "060b720b"
      },
      "source": [
        "# Tuples"
      ]
    },
    {
      "cell_type": "code",
      "execution_count": 37,
      "id": "2b40264b",
      "metadata": {
        "id": "2b40264b",
        "colab": {
          "base_uri": "https://localhost:8080/",
          "height": 245
        },
        "outputId": "8a3929b1-172f-428a-817e-369f6e89ecd4"
      },
      "outputs": [
        {
          "output_type": "stream",
          "name": "stdout",
          "text": [
            "cherry\n"
          ]
        },
        {
          "output_type": "error",
          "ename": "TypeError",
          "evalue": "'tuple' object does not support item assignment",
          "traceback": [
            "\u001b[0;31m---------------------------------------------------------------------------\u001b[0m",
            "\u001b[0;31mTypeError\u001b[0m                                 Traceback (most recent call last)",
            "\u001b[0;32m<ipython-input-37-61e2d0fb7519>\u001b[0m in \u001b[0;36m<cell line: 9>\u001b[0;34m()\u001b[0m\n\u001b[1;32m      7\u001b[0m \u001b[0;34m\u001b[0m\u001b[0m\n\u001b[1;32m      8\u001b[0m \u001b[0;31m# Update: Try to change the second item to \"yellow\" and observe what happens. Expect something error\u001b[0m\u001b[0;34m\u001b[0m\u001b[0;34m\u001b[0m\u001b[0m\n\u001b[0;32m----> 9\u001b[0;31m \u001b[0mmy_fruits_tuple\u001b[0m\u001b[0;34m[\u001b[0m\u001b[0;36m1\u001b[0m\u001b[0;34m]\u001b[0m \u001b[0;34m=\u001b[0m \u001b[0;34m\"yellow\"\u001b[0m\u001b[0;34m\u001b[0m\u001b[0;34m\u001b[0m\u001b[0m\n\u001b[0m\u001b[1;32m     10\u001b[0m \u001b[0;34m\u001b[0m\u001b[0m\n\u001b[1;32m     11\u001b[0m \u001b[0;31m# Remove: Give reason why you can or can't\u001b[0m\u001b[0;34m\u001b[0m\u001b[0;34m\u001b[0m\u001b[0m\n",
            "\u001b[0;31mTypeError\u001b[0m: 'tuple' object does not support item assignment"
          ]
        }
      ],
      "source": [
        "# Creation: Create a tuple with four different fruits\n",
        "my_fruits_tuple = (\"mango\", \"banana\", \"cherry\", \"date\", \"pineapple\")\n",
        "\n",
        "# Access: Access and print the third item in the tuple.\n",
        "print(my_fruits_tuple[2])\n",
        "\n",
        "\n",
        "# Update: Try to change the second item to \"yellow\" and observe what happens. Expect something error\n",
        "my_fruits_tuple[1] = \"yellow\"\n",
        "\n",
        "# Remove: Give reason why you can or can't\n",
        "#'tuple' object does not support item assignment'\n",
        "\n",
        "# Find the index of \"banana\" in the tuple using index method and print it.\n",
        "index_banana  = my_fruits_tuple.index(\"banana\")\n",
        "print(index_banana)\n"
      ]
    },
    {
      "cell_type": "markdown",
      "id": "d9af3178",
      "metadata": {
        "id": "d9af3178"
      },
      "source": [
        "# SET"
      ]
    },
    {
      "cell_type": "code",
      "execution_count": 41,
      "id": "c38b08db",
      "metadata": {
        "id": "c38b08db",
        "colab": {
          "base_uri": "https://localhost:8080/"
        },
        "outputId": "de8449cb-f721-4ca4-f574-24a40ed90c98"
      },
      "outputs": [
        {
          "output_type": "stream",
          "name": "stdout",
          "text": [
            "True\n",
            "{'Mango', 'pineapple', 'mango', 'date', 'apple'}\n"
          ]
        }
      ],
      "source": [
        "# Creation: Create a set of your favorite fruits\n",
        "favourite_fruits = {\"apple\", \"pineapple\", \"mango\", \"banana\", \"cherry\", \"date\"}\n",
        "\n",
        "# Access: Check if your \"Mango\" is in the set.\n",
        "print(\"mango\" in favourite_fruits)\n",
        "\n",
        "# Update: Add \"Mango\" to the set.\n",
        "favourite_fruits.add(\"Mango\")\n",
        "\n",
        "\n",
        "# Remove \"banana\" from your set and print the updated set.\n",
        "\n",
        "favourite_fruits.remove(\"banana\")\n",
        "\n",
        "# Pop an element from your set and print the popped element and the updated set.\n",
        "popped_fruit = favourite_fruits.pop()\n",
        "\n",
        "# Discard \"cherry\" from your set and print the updated set.\n",
        "favourite_fruits.discard(\"cherry\")\n",
        "print(favourite_fruits)"
      ]
    },
    {
      "cell_type": "markdown",
      "id": "77344d89",
      "metadata": {
        "id": "77344d89"
      },
      "source": [
        "# Dictionary"
      ]
    },
    {
      "cell_type": "code",
      "execution_count": 49,
      "id": "02ece1f6",
      "metadata": {
        "id": "02ece1f6",
        "colab": {
          "base_uri": "https://localhost:8080/"
        },
        "outputId": "f0ed8a93-8aad-4178-aa8c-063be5ad5cfa"
      },
      "outputs": [
        {
          "output_type": "stream",
          "name": "stdout",
          "text": [
            "{'orange': 'orange', 'banana': 'yellow', 'cherry': 'dark red', 'pineapple': 'brown', 'date': 'brown'}\n",
            "{'orange': 'orange', 'banana': 'yellow', 'cherry': 'dark red', 'pineapple': 'brown'}\n",
            "dict_values(['orange', 'yellow', 'dark red', 'brown'])\n",
            "dict_keys(['orange', 'banana', 'cherry', 'pineapple'])\n",
            "dict_items([('orange', 'orange'), ('banana', 'yellow'), ('cherry', 'dark red'), ('pineapple', 'brown')])\n",
            "unknown\n"
          ]
        }
      ],
      "source": [
        "# Create a dictionary of your favorite fruits and their colors.\n",
        "\n",
        "favourite_fruits_dict = {\"orange\": \"orange\", \"banana\": \"yellow\", \"cherry\": \"red\", \"pineapple\": \"brown\", \"date\": \"brown\"}\n",
        "\n",
        "\n",
        "# Access: Access the color of 'banana'.\n",
        "banana_color = favourite_fruits_dict[\"banana\"]\n",
        "\n",
        "\n",
        "# Update the color of \"cherry\" and print the updated dictionary.\n",
        "favourite_fruits_dict[\"cherry\"] = \"dark red\"\n",
        "print(favourite_fruits_dict)\n",
        "\n",
        "# Remove \"date\" from your dictionary and print the updated dictionary using pop method\n",
        "\n",
        "favourite_fruits_dict.pop(\"date\")\n",
        "print(favourite_fruits_dict)\n",
        "\n",
        "# Print the list of all values in your dictionary\n",
        "values = favourite_fruits_dict.values()\n",
        "print(values)\n",
        "\n",
        "# Print the list of all keys in your dictionary.\n",
        "keys = favourite_fruits_dict.keys()\n",
        "print(keys)\n",
        "\n",
        "# Print the list of all key-value pairs in your dictionary\n",
        "items = favourite_fruits_dict.items()\n",
        "print(items)\n",
        "\n",
        "# Print the color of \"apple\" using the `get` method.\n",
        "\n",
        "apple_color = favourite_fruits_dict.get(\"apple\", \"unknown\")\n",
        "print(apple_color)\n",
        "\n",
        "\n",
        "# Update your dictionary with the new key-value pairs and print the updated dictionary.\n",
        "\n"
      ]
    },
    {
      "cell_type": "markdown",
      "id": "1147fb20",
      "metadata": {
        "id": "1147fb20"
      },
      "source": [
        "> Extra Task\n",
        "# List Compression"
      ]
    },
    {
      "cell_type": "code",
      "execution_count": 51,
      "id": "2843c7d3",
      "metadata": {
        "id": "2843c7d3",
        "colab": {
          "base_uri": "https://localhost:8080/"
        },
        "outputId": "ebf3d298-86f5-4817-c287-0f510032b980"
      },
      "outputs": [
        {
          "output_type": "stream",
          "name": "stdout",
          "text": [
            "1\n",
            "4\n",
            "9\n",
            "16\n",
            "25\n",
            "36\n",
            "49\n",
            "64\n",
            "81\n",
            "100\n"
          ]
        }
      ],
      "source": [
        "# Create a list of squares of numbers from 1 to 10.\n",
        "for number in range(1, 11):\n",
        "  print(number**2)"
      ]
    },
    {
      "cell_type": "code",
      "execution_count": null,
      "id": "0d9983ab",
      "metadata": {
        "id": "0d9983ab",
        "outputId": "6e4fd25d-3903-4cd3-cda0-f5e064f5aea3"
      },
      "outputs": [
        {
          "name": "stdout",
          "output_type": "stream",
          "text": [
            "['HELLO', 'WORLD', 'PYTHON', 'LIST', 'COMPREHENSION']\n"
          ]
        }
      ],
      "source": [
        "# Explain in the markdown what is happening in this code\n",
        "\n",
        "words = [\"hello\", \"world\", \"python\", \"list\", \"comprehension\"]\n",
        "uppercase_words = [word.upper() for word in words]\n",
        "print(uppercase_words)\n",
        "\n",
        "# Created a new list where each word from the original list is converted to uppercase."
      ]
    },
    {
      "cell_type": "markdown",
      "id": "9cec37a4",
      "metadata": {
        "id": "9cec37a4"
      },
      "source": [
        "> Submit to the email"
      ]
    },
    {
      "cell_type": "markdown",
      "id": "26f5e9d2",
      "metadata": {
        "id": "26f5e9d2"
      },
      "source": [
        "Recommended Reading\n",
        "\n",
        "https://www.stationx.net/python-data-structures-cheat-sheet/"
      ]
    },
    {
      "cell_type": "code",
      "execution_count": null,
      "id": "140d6880",
      "metadata": {
        "id": "140d6880"
      },
      "outputs": [],
      "source": []
    }
  ],
  "metadata": {
    "kernelspec": {
      "display_name": "Python 3 (ipykernel)",
      "language": "python",
      "name": "python3"
    },
    "language_info": {
      "codemirror_mode": {
        "name": "ipython",
        "version": 3
      },
      "file_extension": ".py",
      "mimetype": "text/x-python",
      "name": "python",
      "nbconvert_exporter": "python",
      "pygments_lexer": "ipython3",
      "version": "3.10.10"
    },
    "colab": {
      "provenance": []
    }
  },
  "nbformat": 4,
  "nbformat_minor": 5
}