{
  "cells": [
    {
      "cell_type": "markdown",
      "id": "3c81961c",
      "metadata": {
        "id": "3c81961c"
      },
      "source": [
        "We completed Intro, Variables, Data structure, Functions now lets learn the how we read and write data in Python"
      ]
    },
    {
      "cell_type": "markdown",
      "id": "2388a778",
      "metadata": {
        "id": "2388a778"
      },
      "source": [
        "# Input Output\n",
        "\n",
        "* I/O (Input/Output) in Python refers to the process of interacting with external sources of data, such as reading input from the user or files, and writing output to the console or files.\n",
        "\n",
        "* Python provides several built-in functions and modules to perform various types of I/O operations."
      ]
    },
    {
      "cell_type": "markdown",
      "id": "f0110e5d",
      "metadata": {
        "id": "f0110e5d"
      },
      "source": [
        "## Standard Input and Output:\n",
        "\n",
        "* input(): Reads input from the user as a string.\n",
        "* print(): Outputs text or variables to the console."
      ]
    },
    {
      "cell_type": "markdown",
      "id": "5f0b093c",
      "metadata": {
        "id": "5f0b093c"
      },
      "source": [
        "# which of the keyword is used to output the information?\n",
        "print()"
      ]
    },
    {
      "cell_type": "code",
      "execution_count": null,
      "id": "f7b27046",
      "metadata": {
        "id": "f7b27046",
        "outputId": "e2266ff2-4adb-4b99-ba31-6cb14d7746d2"
      },
      "outputs": [
        {
          "name": "stdout",
          "output_type": "stream",
          "text": [
            "Enter your name: hgchg\n",
            "Hello, hgchg!\n"
          ]
        }
      ],
      "source": [
        "name = input(\"Enter your name: \")\n",
        "print(\"Hello, \"+ name  + \"!\")  # + = additon , contatenation\n",
        ""
      ]
    },
    {
      "cell_type": "markdown",
      "id": "eb40bfdd",
      "metadata": {
        "id": "eb40bfdd"
      },
      "source": [
        "## User Input"
      ]
    },
    {
      "cell_type": "code",
      "execution_count": 1,
      "id": "384dcd8a",
      "metadata": {
        "colab": {
          "base_uri": "https://localhost:8080/"
        },
        "id": "384dcd8a",
        "outputId": "eb848bc0-25fd-443f-fae9-4006c2fb4a2d"
      },
      "outputs": [
        {
          "output_type": "stream",
          "name": "stdout",
          "text": [
            "What is your trainer name?Prashant b k \n",
            "Your's trainer name is Prashant b k  . \n",
            "Waaa\n"
          ]
        }
      ],
      "source": [
        "prompt = 'What is your trainer name?'\n",
        "\n",
        "\n",
        "answer = input(prompt)\n",
        "\n",
        "\n",
        "print(\"Your's trainer name is\", answer,'.', \"\\nWaaa\")"
      ]
    },
    {
      "cell_type": "markdown",
      "id": "1f84ad62",
      "metadata": {
        "id": "1f84ad62"
      },
      "source": [
        "## File I/O: ( file handling)\n",
        "\n",
        "* open(): Opens a file and returns a file object.\n",
        "* read(), readline(), readlines(): Reads data from a file.\n",
        "* write(), writelines(): Writes data to a file.\n",
        "* close(): Closes a file.\n"
      ]
    },
    {
      "cell_type": "code",
      "execution_count": 2,
      "id": "3a554ec7",
      "metadata": {
        "colab": {
          "base_uri": "https://localhost:8080/",
          "height": 211
        },
        "id": "3a554ec7",
        "outputId": "e1b7a68b-e54b-4624-e705-620eb9bf4b59"
      },
      "outputs": [
        {
          "output_type": "error",
          "ename": "FileNotFoundError",
          "evalue": "[Errno 2] No such file or directory: 'otbs.txt'",
          "traceback": [
            "\u001b[0;31m---------------------------------------------------------------------------\u001b[0m",
            "\u001b[0;31mFileNotFoundError\u001b[0m                         Traceback (most recent call last)",
            "\u001b[0;32m<ipython-input-2-445a37ad6e27>\u001b[0m in \u001b[0;36m<cell line: 2>\u001b[0;34m()\u001b[0m\n\u001b[1;32m      1\u001b[0m \u001b[0;31m# Reading\u001b[0m\u001b[0;34m\u001b[0m\u001b[0;34m\u001b[0m\u001b[0m\n\u001b[0;32m----> 2\u001b[0;31m \u001b[0mfile\u001b[0m \u001b[0;34m=\u001b[0m \u001b[0mopen\u001b[0m\u001b[0;34m(\u001b[0m\u001b[0;34m\"otbs.txt\"\u001b[0m\u001b[0;34m,\u001b[0m \u001b[0;34m\"r\"\u001b[0m\u001b[0;34m)\u001b[0m \u001b[0;31m#read mode\u001b[0m\u001b[0;34m\u001b[0m\u001b[0;34m\u001b[0m\u001b[0m\n\u001b[0m\u001b[1;32m      3\u001b[0m \u001b[0mcontent\u001b[0m \u001b[0;34m=\u001b[0m \u001b[0mfile\u001b[0m\u001b[0;34m.\u001b[0m\u001b[0mread\u001b[0m\u001b[0;34m(\u001b[0m\u001b[0;34m)\u001b[0m\u001b[0;34m\u001b[0m\u001b[0;34m\u001b[0m\u001b[0m\n\u001b[1;32m      4\u001b[0m \u001b[0mprint\u001b[0m\u001b[0;34m(\u001b[0m\u001b[0mcontent\u001b[0m\u001b[0;34m)\u001b[0m\u001b[0;34m\u001b[0m\u001b[0;34m\u001b[0m\u001b[0m\n\u001b[1;32m      5\u001b[0m \u001b[0mfile\u001b[0m\u001b[0;34m.\u001b[0m\u001b[0mclose\u001b[0m\u001b[0;34m(\u001b[0m\u001b[0;34m)\u001b[0m\u001b[0;34m\u001b[0m\u001b[0;34m\u001b[0m\u001b[0m\n",
            "\u001b[0;31mFileNotFoundError\u001b[0m: [Errno 2] No such file or directory: 'otbs.txt'"
          ]
        }
      ],
      "source": [
        "# Reading\n",
        "file = open(\"otbs.txt\", \"r\") #read mode\n",
        "content = file.read()\n",
        "print(content)\n",
        "file.close()\n"
      ]
    },
    {
      "cell_type": "markdown",
      "id": "d0b1e1b0",
      "metadata": {
        "id": "d0b1e1b0"
      },
      "source": [
        "### Writing to File"
      ]
    },
    {
      "cell_type": "code",
      "execution_count": null,
      "id": "6db95422",
      "metadata": {
        "id": "6db95422"
      },
      "outputs": [],
      "source": [
        "# Example - Writing to a file:\n",
        "file = open(\"otbsss.txt\", \"w\") # write mode - auto mode file --> chena file create\n",
        "file.write(\"This is some content. k cha\")\n",
        "file.close()"
      ]
    },
    {
      "cell_type": "markdown",
      "id": "11b88b0f",
      "metadata": {
        "id": "11b88b0f"
      },
      "source": [
        "With this you would have new file created in your system called output.txt"
      ]
    },
    {
      "cell_type": "markdown",
      "id": "d7eedb19",
      "metadata": {
        "id": "d7eedb19"
      },
      "source": [
        "### Working with Files using `with Statement`:\n",
        "\n",
        "The with statement in Python is a more convenient way to open and work with files. It automatically takes care of closing the file, even if an exception occurs."
      ]
    },
    {
      "cell_type": "code",
      "execution_count": null,
      "id": "275b9c75",
      "metadata": {
        "id": "275b9c75",
        "outputId": "54f2090e-2fbf-4fae-e4f1-50c5d89854f2"
      },
      "outputs": [
        {
          "ename": "NameError",
          "evalue": "name 'm' is not defined",
          "output_type": "error",
          "traceback": [
            "\u001b[0;31m---------------------------------------------------------------------------\u001b[0m",
            "\u001b[0;31mNameError\u001b[0m                                 Traceback (most recent call last)",
            "Cell \u001b[0;32mIn[5], line 3\u001b[0m\n\u001b[1;32m      1\u001b[0m \u001b[38;5;28;01mimport\u001b[39;00m \u001b[38;5;21;01mmath\u001b[39;00m \u001b[38;5;28;01mas\u001b[39;00m \u001b[38;5;21;01mhhjj\u001b[39;00m\n\u001b[0;32m----> 3\u001b[0m \u001b[38;5;28mprint\u001b[39m(\u001b[43mm\u001b[49m\u001b[38;5;241m.\u001b[39mpi)\n",
            "\u001b[0;31mNameError\u001b[0m: name 'm' is not defined"
          ]
        }
      ],
      "source": [
        "import math as hhjj\n",
        "\n",
        "print(m.pi)\n"
      ]
    },
    {
      "cell_type": "code",
      "execution_count": null,
      "id": "debd3394",
      "metadata": {
        "id": "debd3394",
        "outputId": "76612eb2-2e0a-46a9-dc19-459f22712b83"
      },
      "outputs": [
        {
          "name": "stdout",
          "output_type": "stream",
          "text": [
            "﻿Sample Document\n",
            "\n",
            "Fusce convallis metus id felis luctus adipiscing. Pellentesque egestas, neque sit amet convallis pulvinar, justo nulla eleifend augue, ac auctor orci leo non est. Fusce vel dui. Sed augue ipsum, egestas nec, vestibulum et, malesuada adipiscing, dui. Phasellus viverra nulla ut metus varius laoreet.\n",
            "\n",
            "\n",
            "Nulla facilisi. Phasellus accumsan cursus velit. Curabitur at lacus ac velit ornare lobortis. Maecenas vestibulum mollis diam. Phasellus blandit leo ut odio.\n",
            "\n",
            "\n",
            "Praesent ac massa at ligula laoreet iaculis. Pellentesque dapibus hendrerit tortor. Nam commodo suscipit quam. Sed a libero. Nullam nulla eros, ultricies sit amet, nonummy id, imperdiet feugiat, pede.\n",
            "\n",
            "\n",
            "Pellentesque egestas, neque sit amet convallis pulvinar, justo nulla eleifend augue, ac auctor orci leo non est. Curabitur ullamcorper ultricies nisi. Pellentesque posuere. Fusce fermentum. Morbi vestibulum volutpat enim.\n",
            "\n",
            "\n",
            "In enim justo, rhoncus ut, imperdiet a, venenatis vitae, justo. Curabitur a felis in nunc fringilla tristique. Donec mollis hendrerit risus. Vestibulum turpis sem, aliquet eget, lobortis pellentesque, rutrum eu, nisl. Proin magna.\n"
          ]
        }
      ],
      "source": [
        "# Reading\n",
        "file = open(\"sample.txt\", \"r\") # mode read\n",
        "content = file.read()\n",
        "print(content)\n",
        "file.close()\n"
      ]
    },
    {
      "cell_type": "code",
      "execution_count": null,
      "id": "6912ff4d",
      "metadata": {
        "id": "6912ff4d",
        "outputId": "93469c42-e964-4940-dc38-a01cf258be82"
      },
      "outputs": [
        {
          "name": "stdout",
          "output_type": "stream",
          "text": [
            "﻿Sample Document\n",
            "\n",
            "Fusce convallis metus id felis luctus adipiscing. Pellentesque egestas, neque sit amet convallis pulvinar, justo nulla eleifend augue, ac auctor orci leo non est. Fusce vel dui. Sed augue ipsum, egestas nec, vestibulum et, malesuada adipiscing, dui. Phasellus viverra nulla ut metus varius laoreet.\n",
            "\n",
            "\n",
            "Nulla facilisi. Phasellus accumsan cursus velit. Curabitur at lacus ac velit ornare lobortis. Maecenas vestibulum mollis diam. Phasellus blandit leo ut odio.\n",
            "\n",
            "\n",
            "Praesent ac massa at ligula laoreet iaculis. Pellentesque dapibus hendrerit tortor. Nam commodo suscipit quam. Sed a libero. Nullam nulla eros, ultricies sit amet, nonummy id, imperdiet feugiat, pede.\n",
            "\n",
            "\n",
            "Pellentesque egestas, neque sit amet convallis pulvinar, justo nulla eleifend augue, ac auctor orci leo non est. Curabitur ullamcorper ultricies nisi. Pellentesque posuere. Fusce fermentum. Morbi vestibulum volutpat enim.\n",
            "\n",
            "\n",
            "In enim justo, rhoncus ut, imperdiet a, venenatis vitae, justo. Curabitur a felis in nunc fringilla tristique. Donec mollis hendrerit risus. Vestibulum turpis sem, aliquet eget, lobortis pellentesque, rutrum eu, nisl. Proin magna.\n",
            "﻿Sample Document\n",
            "\n",
            "Fusce convallis metus id felis luctus adipiscing. Pellentesque egestas, neque sit amet convallis pulvinar, justo nulla eleifend augue, ac auctor orci leo non est. Fusce vel dui. Sed augue ipsum, egestas nec, vestibulum et, malesuada adipiscing, dui. Phasellus viverra nulla ut metus varius laoreet.\n",
            "\n",
            "\n",
            "Nulla facilisi. Phasellus accumsan cursus velit. Curabitur at lacus ac velit ornare lobortis. Maecenas vestibulum mollis diam. Phasellus blandit leo ut odio.\n",
            "\n",
            "\n",
            "Praesent ac massa at ligula laoreet iaculis. Pellentesque dapibus hendrerit tortor. Nam commodo suscipit quam. Sed a libero. Nullam nulla eros, ultricies sit amet, nonummy id, imperdiet feugiat, pede.\n",
            "\n",
            "\n",
            "Pellentesque egestas, neque sit amet convallis pulvinar, justo nulla eleifend augue, ac auctor orci leo non est. Curabitur ullamcorper ultricies nisi. Pellentesque posuere. Fusce fermentum. Morbi vestibulum volutpat enim.\n",
            "\n",
            "\n",
            "In enim justo, rhoncus ut, imperdiet a, venenatis vitae, justo. Curabitur a felis in nunc fringilla tristique. Donec mollis hendrerit risus. Vestibulum turpis sem, aliquet eget, lobortis pellentesque, rutrum eu, nisl. Proin magna.\n"
          ]
        }
      ],
      "source": [
        "with open(\"sample.txt\", \"r\") as file:\n",
        "    content = file.read()\n",
        "    print(content)\n",
        "\n",
        "print(content)"
      ]
    },
    {
      "cell_type": "markdown",
      "id": "bd7290f0",
      "metadata": {
        "id": "bd7290f0"
      },
      "source": [
        "## Formatting Output\n",
        "\n",
        "It allows you to represent data in a specific format and combine it with text or other variables.\n",
        "\n",
        "Python offers various string formatting methods that provide flexibility and readability.\n",
        "\n",
        "Here are three commonly used string formatting methods:\n"
      ]
    },
    {
      "cell_type": "markdown",
      "id": "8fa048b9",
      "metadata": {
        "id": "8fa048b9"
      },
      "source": [
        " #### The % Operator:\n",
        "\n",
        "The % operator allows you to format strings by using placeholders and providing values to substitute those placeholders.\n"
      ]
    },
    {
      "cell_type": "code",
      "execution_count": null,
      "id": "c5833000",
      "metadata": {
        "id": "c5833000",
        "outputId": "d6027608-be85-4aa6-a14c-0aca9c834836"
      },
      "outputs": [
        {
          "name": "stdout",
          "output_type": "stream",
          "text": [
            "Your answr is: K cha\n"
          ]
        }
      ],
      "source": [
        "a = \"K cha\"\n",
        "print(\"Your answr is:\",a)"
      ]
    },
    {
      "cell_type": "code",
      "execution_count": null,
      "id": "6795aabb",
      "metadata": {
        "id": "6795aabb",
        "outputId": "d9782bb8-6744-4377-906b-f5a2efa4196e"
      },
      "outputs": [
        {
          "ename": "TypeError",
          "evalue": "not all arguments converted during string formatting",
          "output_type": "error",
          "traceback": [
            "\u001b[0;31m---------------------------------------------------------------------------\u001b[0m",
            "\u001b[0;31mTypeError\u001b[0m                                 Traceback (most recent call last)",
            "Cell \u001b[0;32mIn[33], line 3\u001b[0m\n\u001b[1;32m      1\u001b[0m name \u001b[38;5;241m=\u001b[39m \u001b[38;5;124m\"\u001b[39m\u001b[38;5;124mAlice\u001b[39m\u001b[38;5;124m\"\u001b[39m \n\u001b[1;32m      2\u001b[0m age \u001b[38;5;241m=\u001b[39m \u001b[38;5;241m25\u001b[39m\n\u001b[0;32m----> 3\u001b[0m \u001b[38;5;28mprint\u001b[39m(\u001b[38;5;124;43m\"\u001b[39;49m\u001b[38;5;124;43mMy name is \u001b[39;49m\u001b[38;5;132;43;01m%s\u001b[39;49;00m\u001b[38;5;124;43m and I am \u001b[39;49m\u001b[38;5;132;43;01m%d\u001b[39;49;00m\u001b[38;5;124;43m years ol.\u001b[39;49m\u001b[38;5;124;43m\"\u001b[39;49m\u001b[43m \u001b[49m\u001b[38;5;241;43m%\u001b[39;49m\u001b[43m(\u001b[49m\u001b[43mname\u001b[49m\u001b[43m,\u001b[49m\u001b[43m \u001b[49m\u001b[43mage\u001b[49m\u001b[43m,\u001b[49m\u001b[43m \u001b[49m\u001b[43mname\u001b[49m\u001b[43m)\u001b[49m)\n",
            "\u001b[0;31mTypeError\u001b[0m: not all arguments converted during string formatting"
          ]
        }
      ],
      "source": [
        "name = \"Alice\"\n",
        "age = 25\n",
        "print(\"My name is %s and I am %d years old %s.\" %(name, age, name))\n"
      ]
    },
    {
      "cell_type": "markdown",
      "id": "2079f11f",
      "metadata": {
        "id": "2079f11f"
      },
      "source": [
        "In this example, %s is a placeholder for a string,\n",
        "\n",
        "and %d is a placeholder for an integer.\n",
        "\n",
        "The values for these placeholders are provided after the % operator in a tuple.\n"
      ]
    },
    {
      "cell_type": "markdown",
      "id": "4aafe03d",
      "metadata": {
        "id": "4aafe03d"
      },
      "source": [
        "#### Using the str.format() Method\n",
        "\n",
        "The str.format() method allows you to format strings by using placeholders enclosed in curly braces {}.\n",
        "\n",
        "You can provide values to substitute these placeholders using the format() method."
      ]
    },
    {
      "cell_type": "code",
      "execution_count": null,
      "id": "6db467f7",
      "metadata": {
        "id": "6db467f7",
        "outputId": "270459b1-ad51-446c-d25a-9517ee8c15f2"
      },
      "outputs": [
        {
          "name": "stdout",
          "output_type": "stream",
          "text": [
            "My name is 25 and I am Alice years old.\n"
          ]
        }
      ],
      "source": [
        "name = \"Alice\"\n",
        "age = 25\n",
        "\n",
        "\n",
        "print(\"My name is {} and I am {} {}years old.\".format(age, name))\n"
      ]
    },
    {
      "cell_type": "markdown",
      "id": "54f9036d",
      "metadata": {
        "id": "54f9036d"
      },
      "source": [
        "In this example, {} serves as a placeholder, and the values for these placeholders are provided in the format() method in the order they appear in the string."
      ]
    },
    {
      "cell_type": "code",
      "execution_count": null,
      "id": "97d1af6a",
      "metadata": {
        "id": "97d1af6a",
        "outputId": "a690dd7e-7501-4388-c93e-b83070bdabf9"
      },
      "outputs": [
        {
          "data": {
            "text/plain": [
              "'The value of pi is 3.1'"
            ]
          },
          "execution_count": 39,
          "metadata": {},
          "output_type": "execute_result"
        }
      ],
      "source": [
        "pi = 3.14159\n",
        "formatted_string = \"The value of pi is {:.1f}\".format(pi)\n",
        "\n",
        "\n",
        "formatted_string\n"
      ]
    },
    {
      "cell_type": "markdown",
      "id": "eeebeb93",
      "metadata": {
        "id": "eeebeb93"
      },
      "source": [
        "{pi:.2f} tells Python to format the value of pi as a floating-point number with exactly two decimal places."
      ]
    },
    {
      "cell_type": "code",
      "execution_count": null,
      "id": "965a01fc",
      "metadata": {
        "id": "965a01fc"
      },
      "outputs": [],
      "source": [
        "decimal_number = 123.456789\n",
        "formatted_string = \"The number is {:.6f}\".format(decimal_number)\n",
        "formatted_string"
      ]
    },
    {
      "cell_type": "code",
      "execution_count": null,
      "id": "906d2cb6",
      "metadata": {
        "id": "906d2cb6"
      },
      "outputs": [],
      "source": [
        "decimal_number = 123\n",
        "formatted_string = \"The number is {}\".format(decimal_number)\n",
        "formatted_string"
      ]
    },
    {
      "cell_type": "markdown",
      "id": "2e09aad1",
      "metadata": {
        "id": "2e09aad1"
      },
      "source": [
        "\n",
        "#### Using f-strings (formatted string literals):\n",
        "f-strings provide a concise and convenient way to format strings by prefixing the string with f and using curly braces {} to enclose expressions or variables to be evaluated and substituted.\n",
        "Example:"
      ]
    },
    {
      "cell_type": "code",
      "execution_count": null,
      "id": "de859627",
      "metadata": {
        "id": "de859627"
      },
      "outputs": [],
      "source": []
    },
    {
      "cell_type": "code",
      "execution_count": null,
      "id": "55b00b1d",
      "metadata": {
        "id": "55b00b1d",
        "outputId": "ad1f893c-957a-4b54-8b91-1d20737adec2"
      },
      "outputs": [
        {
          "name": "stdout",
          "output_type": "stream",
          "text": [
            "My name is Alice and I am 25.99 years old.\n"
          ]
        }
      ],
      "source": [
        "name = \"Alice\"\n",
        "age = 25.98998\n",
        "age = round(age,2)\n",
        "\n",
        "print(f\"My name is {name} and I am {age} years old.\")\n"
      ]
    },
    {
      "cell_type": "markdown",
      "id": "5a878c93",
      "metadata": {
        "id": "5a878c93"
      },
      "source": [
        "> Now exercise time"
      ]
    },
    {
      "cell_type": "markdown",
      "id": "94479327",
      "metadata": {
        "id": "94479327"
      },
      "source": [
        "# Your Turn"
      ]
    },
    {
      "cell_type": "markdown",
      "id": "b957c91f",
      "metadata": {
        "id": "b957c91f"
      },
      "source": [
        "### Q1:  Write a Python program that asks the user for their name and age, then prints a greeting message in the format: \"Hello [name]! You are [age] years old.\"\n"
      ]
    },
    {
      "cell_type": "code",
      "execution_count": 1,
      "id": "d29dfd0e",
      "metadata": {
        "colab": {
          "base_uri": "https://localhost:8080/"
        },
        "id": "d29dfd0e",
        "outputId": "89d36d57-3e99-4b7e-a44e-205a86812296"
      },
      "outputs": [
        {
          "output_type": "stream",
          "name": "stdout",
          "text": [
            "What is your name? Prashant\n",
            "How old are you? 25\n",
            "Hello Prashant, You are 25 years old.\n"
          ]
        }
      ],
      "source": [
        "# Code Here\n",
        "\n",
        "# Ask the user for their name\n",
        "name = input(\"What is your name? \")\n",
        "\n",
        "# Ask the user for their age\n",
        "age = input(\"How old are you? \")\n",
        "\n",
        "# Print a greeting message\n",
        "print(f\"Hello {name}, You are {age} years old.\")\n",
        "\n"
      ]
    },
    {
      "cell_type": "markdown",
      "id": "5a15867f",
      "metadata": {
        "id": "5a15867f"
      },
      "source": [
        "## Q2: Write a Python program that asks for the user's name, age, and city, then prints the information in the format: \"Name: [name], Age: [age], City: [city]\" usinf f-string formatiing method\n"
      ]
    },
    {
      "cell_type": "code",
      "execution_count": null,
      "id": "bcd4a1a7",
      "metadata": {
        "id": "bcd4a1a7"
      },
      "outputs": [],
      "source": [
        "# Code Here\n",
        "# Ask the user for their name\n",
        "name = input(\"What is your name? \")\n",
        "\n",
        "# Ask the user for their age\n",
        "age = input(\"How old are you? \")\n",
        "\n",
        "# Ask the user for their city\n",
        "city = input(\"Which city do you live in? \")\n",
        "\n",
        "# Print the information\n",
        "print(f\"Name: {name}, Age: {age}, City: {city}\")\n",
        "\n",
        "\n"
      ]
    },
    {
      "cell_type": "markdown",
      "id": "ab0e3e40",
      "metadata": {
        "id": "ab0e3e40"
      },
      "source": [
        "## Q3: Write a Python program that asks the user for their short introduction(one paragraph) and writes it to a file named \"user_intor.txt\".\n",
        "### Use With statement"
      ]
    },
    {
      "cell_type": "code",
      "execution_count": null,
      "id": "c1b206e8",
      "metadata": {
        "id": "c1b206e8"
      },
      "outputs": [],
      "source": [
        "# Code Here\n",
        "# Ask the user for their short introduction\n",
        "introduction = input(\"Please provide a short introduction about yourself: \")\n",
        "\n",
        "# Open a file named \"user_intro.txt\" in write mode\n",
        "with open(\"user_intro.txt\", \"w\") as file:\n",
        "    # Write the user's introduction to the file\n",
        "    file.write(introduction)\n",
        "\n",
        "print(\"introduction has been written to 'user_intro.txt'.\")\n",
        "\n",
        "\n",
        "\n"
      ]
    },
    {
      "cell_type": "code",
      "execution_count": null,
      "id": "5792e93c",
      "metadata": {
        "id": "5792e93c"
      },
      "outputs": [],
      "source": []
    }
  ],
  "metadata": {
    "kernelspec": {
      "display_name": "Python 3 (ipykernel)",
      "language": "python",
      "name": "python3"
    },
    "language_info": {
      "codemirror_mode": {
        "name": "ipython",
        "version": 3
      },
      "file_extension": ".py",
      "mimetype": "text/x-python",
      "name": "python",
      "nbconvert_exporter": "python",
      "pygments_lexer": "ipython3",
      "version": "3.10.10"
    },
    "colab": {
      "provenance": []
    }
  },
  "nbformat": 4,
  "nbformat_minor": 5
}