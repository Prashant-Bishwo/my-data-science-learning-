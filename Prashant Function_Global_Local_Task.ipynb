{
  "cells": [
    {
      "cell_type": "markdown",
      "id": "d83568fc",
      "metadata": {
        "id": "d83568fc"
      },
      "source": [
        "![img](https://global-uploads.webflow.com/5f81ff43a0e73644b42c3063/63beda9fa32dae859f01b203_image%20-%202023-01-11T193923.859.png)"
      ]
    },
    {
      "cell_type": "markdown",
      "id": "2cf8928f",
      "metadata": {
        "id": "2cf8928f"
      },
      "source": [
        "# Study this code and answer following"
      ]
    },
    {
      "cell_type": "code",
      "execution_count": 1,
      "id": "82d22229",
      "metadata": {
        "colab": {
          "base_uri": "https://localhost:8080/"
        },
        "id": "82d22229",
        "outputId": "fc09cfb0-29d5-4542-ce31-3a1f4602cbe5"
      },
      "outputs": [
        {
          "output_type": "stream",
          "name": "stdout",
          "text": [
            "Before calling the function, count = 10\n",
            "Inside the function, count = 6\n",
            "After calling the function, count = 10\n"
          ]
        }
      ],
      "source": [
        "# Global variable\n",
        "count = 10\n",
        "\n",
        "def increment():\n",
        "    # Local variable\n",
        "    count = 5\n",
        "    count += 1\n",
        "    print(\"Inside the function, count =\", count)\n",
        "\n",
        "print(\"Before calling the function, count =\", count)\n",
        "increment()\n",
        "print(\"After calling the function, count =\", count)\n"
      ]
    },
    {
      "cell_type": "markdown",
      "id": "eb5888ba",
      "metadata": {
        "id": "eb5888ba"
      },
      "source": [
        "# Q1. What will be the output of the code before calling the increment function?\n"
      ]
    },
    {
      "cell_type": "code",
      "execution_count": null,
      "id": "54e820c2",
      "metadata": {
        "id": "54e820c2"
      },
      "outputs": [],
      "source": [
        "# Q1 Answer here\n",
        "# the output before calling the increment function will be 10.\n",
        "\n"
      ]
    },
    {
      "cell_type": "markdown",
      "id": "54df224a",
      "metadata": {
        "id": "54df224a"
      },
      "source": [
        "# Q2: What will be the output of the code inside the increment function?"
      ]
    },
    {
      "cell_type": "code",
      "execution_count": null,
      "id": "0e596bc8",
      "metadata": {
        "id": "0e596bc8"
      },
      "outputs": [],
      "source": [
        "# Q2 Answer here\n",
        "''' the local variable count is set to 5.\n",
        "The local variable count is then incremented by 1, making it 6.\n",
        "The function prints the local variable count, which is 6.\n",
        "So, the output of the code inside the increment function will be 6  '''"
      ]
    },
    {
      "cell_type": "markdown",
      "id": "8ab13bad",
      "metadata": {
        "id": "8ab13bad"
      },
      "source": [
        "# Q3: What will be the output of the code after calling the increment function?"
      ]
    },
    {
      "cell_type": "code",
      "execution_count": null,
      "id": "adb4a01a",
      "metadata": {
        "id": "adb4a01a"
      },
      "outputs": [],
      "source": [
        "# Q3 Answer here\n",
        "# the output after calling the increment function will be 10.\n"
      ]
    },
    {
      "cell_type": "markdown",
      "id": "b9479b91",
      "metadata": {
        "id": "b9479b91"
      },
      "source": [
        "# Q4: Explain why the value of count does not change outside the function after calling increment?"
      ]
    },
    {
      "cell_type": "code",
      "execution_count": null,
      "id": "e16c11b7",
      "metadata": {
        "id": "e16c11b7"
      },
      "outputs": [],
      "source": [
        "# Q4 Answer here\n",
        "'''The global variable count does not change because the modifications made inside the increment function only apply to the local variable count,\n",
        " which is confined to the function's local scope. The global variable remains unaffected by changes to the local variable.'''"
      ]
    },
    {
      "cell_type": "markdown",
      "id": "68ec0e37",
      "metadata": {
        "id": "68ec0e37"
      },
      "source": [
        "# Q5: How would you modify the increment function to change the value of the global count variable?"
      ]
    },
    {
      "cell_type": "code",
      "execution_count": 2,
      "id": "4ce28dd1",
      "metadata": {
        "colab": {
          "base_uri": "https://localhost:8080/"
        },
        "id": "4ce28dd1",
        "outputId": "10c65e4a-62fa-43af-9eef-3000b102d8b6"
      },
      "outputs": [
        {
          "output_type": "stream",
          "name": "stdout",
          "text": [
            "Before calling the function, count = 10\n",
            "Inside the function, count = 11\n",
            "After calling the function, count = 11\n"
          ]
        }
      ],
      "source": [
        "# Q5 Answer here\n",
        "# Hint-- use global keyword\n",
        "'''By using the global keyword, the function modifies the global\n",
        "count variable instead of creating a local variable with the same name.'''\n",
        "\n",
        "# Global variable\n",
        "count = 10\n",
        "\n",
        "def increment():\n",
        "    global count  # use of  the global variable 'count'.\n",
        "    count += 1\n",
        "    print(\"Inside the function, count =\", count)\n",
        "\n",
        "print(\"Before calling the function, count =\", count)\n",
        "increment()\n",
        "print(\"After calling the function, count =\", count)\n"
      ]
    },
    {
      "cell_type": "code",
      "execution_count": null,
      "id": "28235d67",
      "metadata": {
        "id": "28235d67"
      },
      "outputs": [],
      "source": []
    }
  ],
  "metadata": {
    "kernelspec": {
      "display_name": "Python 3 (ipykernel)",
      "language": "python",
      "name": "python3"
    },
    "language_info": {
      "codemirror_mode": {
        "name": "ipython",
        "version": 3
      },
      "file_extension": ".py",
      "mimetype": "text/x-python",
      "name": "python",
      "nbconvert_exporter": "python",
      "pygments_lexer": "ipython3",
      "version": "3.10.10"
    },
    "colab": {
      "provenance": []
    }
  },
  "nbformat": 4,
  "nbformat_minor": 5
}