{
  "cells": [
    {
      "cell_type": "markdown",
      "id": "7c6627e5",
      "metadata": {
        "id": "7c6627e5"
      },
      "source": [
        "![](https://devopedia.org/images/article/41/8174.1595680354.png)"
      ]
    },
    {
      "cell_type": "markdown",
      "id": "21cf4040",
      "metadata": {
        "id": "21cf4040"
      },
      "source": [
        "# List"
      ]
    },
    {
      "cell_type": "code",
      "execution_count": 27,
      "id": "80157d46",
      "metadata": {
        "colab": {
          "base_uri": "https://localhost:8080/"
        },
        "id": "80157d46",
        "outputId": "98cb2398-ee43-4a20-d945-3ae13093d7fb"
      },
      "outputs": [
        {
          "output_type": "stream",
          "name": "stdout",
          "text": [
            "['apple', 'mango', 'Cranberry', 'jackfruits', 'grapes', 'banana']\n",
            "<class 'list'>\n",
            "mango\n",
            "['apple', 'mango', 'Orange', 'jackfruits', 'grapes', 'banana']\n",
            "['mango', 'Orange', 'jackfruits', 'grapes', 'banana']\n"
          ]
        }
      ],
      "source": [
        "from os import remove\n",
        "# Creation: Create a list of your favorite fruits\n",
        "\n",
        "favorite_fruits = ['apple', 'mango', 'Cranberry', 'jackfruits', 'grapes', 'banana']\n",
        "print(favorite_fruits)\n",
        "print(type(favorite_fruits))\n",
        "\n",
        "# Access: Access the second item in the list.\n",
        "print(favorite_fruits[1])\n",
        "\n",
        "\n",
        "# Update: Change the third item to \"orange\".\n",
        "\n",
        "favorite_fruits[2]= \"Orange\"\n",
        "print(favorite_fruits)\n",
        "\n",
        "#Remove: Remove the first item from the list.\n",
        "favorite_fruits.remove(\"apple\")\n",
        "print(favorite_fruits)\n"
      ]
    },
    {
      "cell_type": "markdown",
      "id": "060b720b",
      "metadata": {
        "id": "060b720b"
      },
      "source": [
        "# Tuples"
      ]
    },
    {
      "cell_type": "code",
      "execution_count": null,
      "id": "2b40264b",
      "metadata": {
        "colab": {
          "base_uri": "https://localhost:8080/",
          "height": 263
        },
        "id": "2b40264b",
        "outputId": "d55f2bf0-c2dd-4ec2-a18d-7dabd1cc66ef"
      },
      "outputs": [
        {
          "output_type": "stream",
          "name": "stdout",
          "text": [
            "('red', 'green', 'blue')\n",
            "blue\n"
          ]
        },
        {
          "output_type": "error",
          "ename": "TypeError",
          "evalue": "'tuple' object does not support item assignment",
          "traceback": [
            "\u001b[0;31m---------------------------------------------------------------------------\u001b[0m",
            "\u001b[0;31mTypeError\u001b[0m                                 Traceback (most recent call last)",
            "\u001b[0;32m<ipython-input-4-3ba7c71e2180>\u001b[0m in \u001b[0;36m<cell line: 10>\u001b[0;34m()\u001b[0m\n\u001b[1;32m      8\u001b[0m \u001b[0;34m\u001b[0m\u001b[0m\n\u001b[1;32m      9\u001b[0m \u001b[0;31m# Update: Try to change the second item to \"yellow\" and observe what happens. Expect something error\u001b[0m\u001b[0;34m\u001b[0m\u001b[0;34m\u001b[0m\u001b[0m\n\u001b[0;32m---> 10\u001b[0;31m \u001b[0mdifferent_colors\u001b[0m\u001b[0;34m[\u001b[0m\u001b[0;36m1\u001b[0m\u001b[0;34m]\u001b[0m \u001b[0;34m=\u001b[0m \u001b[0;34m\"yellow\"\u001b[0m\u001b[0;34m\u001b[0m\u001b[0;34m\u001b[0m\u001b[0m\n\u001b[0m\u001b[1;32m     11\u001b[0m \u001b[0;34m\u001b[0m\u001b[0m\n\u001b[1;32m     12\u001b[0m \u001b[0;31m# Remove: Give reason why you can or can't\u001b[0m\u001b[0;34m\u001b[0m\u001b[0;34m\u001b[0m\u001b[0m\n",
            "\u001b[0;31mTypeError\u001b[0m: 'tuple' object does not support item assignment"
          ]
        }
      ],
      "source": [
        "# Creation: Create a tuple with three different colors.s\n",
        "different_colors = ('red', 'green', 'blue')\n",
        "print(different_colors)\n",
        "\n",
        "# Access: Access the third item in the tuple.\n",
        "print(different_colors[2])\n",
        "\n",
        "\n",
        "# Update: Try to change the second item to \"yellow\" and observe what happens. Expect something error\n",
        "different_colors[1] = \"yellow\"\n",
        "\n",
        "# Remove: Give reason why you can or can't\n",
        "#This will raise an error because tuples are immutable, meaning their elements cannot be changed after creation. The error message will be:\n",
        "#TypeError: 'tuple' object does not support item assignment\n"
      ]
    },
    {
      "cell_type": "markdown",
      "id": "d9af3178",
      "metadata": {
        "id": "d9af3178"
      },
      "source": [
        "# SET"
      ]
    },
    {
      "cell_type": "code",
      "execution_count": 13,
      "id": "c38b08db",
      "metadata": {
        "id": "c38b08db",
        "colab": {
          "base_uri": "https://localhost:8080/"
        },
        "outputId": "fbd94898-e4d0-4bad-f4a0-95afc4408c93"
      },
      "outputs": [
        {
          "output_type": "stream",
          "name": "stdout",
          "text": [
            "{'Infinity War', 'Doctor Strange', 'Thor', 'Venom'}\n",
            "False\n",
            "{'Doctor Strange', 'Miracale in cell', 'Infinity War', 'Venom', 'Thor'}\n",
            "{'Doctor Strange', 'Miracale in cell', 'Venom', 'Thor'}\n"
          ]
        }
      ],
      "source": [
        "# Creation: Create a set of your favorite movies\n",
        "\n",
        "my_favourite_movies= {'Venom', 'Doctor Strange', 'Thor', 'Infinity War'}\n",
        "print(my_favourite_movies)\n",
        "\n",
        "\n",
        "# Access: Check if your \"Toy Car\" is in the set.\n",
        "\n",
        "print( 'toy car' in my_favourite_movies)\n",
        "\n",
        "# Update: Add \"Miracle in Cell\" to the set.\n",
        "my_favourite_movies.add(\"Miracale in cell\")\n",
        "print(my_favourite_movies)\n",
        "\n",
        "\n",
        "# Remove: Remove your least favorite movies.\n",
        "my_favourite_movies.remove('Infinity War')\n",
        "print(my_favourite_movies)\n"
      ]
    },
    {
      "cell_type": "markdown",
      "source": [],
      "metadata": {
        "id": "C64PUydjct2m"
      },
      "id": "C64PUydjct2m"
    },
    {
      "cell_type": "markdown",
      "source": [],
      "metadata": {
        "id": "d0VWNDtWcsPp"
      },
      "id": "d0VWNDtWcsPp"
    },
    {
      "cell_type": "markdown",
      "id": "77344d89",
      "metadata": {
        "id": "77344d89"
      },
      "source": [
        "# Dictionary"
      ]
    },
    {
      "cell_type": "code",
      "execution_count": 19,
      "id": "02ece1f6",
      "metadata": {
        "id": "02ece1f6",
        "colab": {
          "base_uri": "https://localhost:8080/"
        },
        "outputId": "fb4bf5e9-3250-4a49-d9bc-c82f95771878"
      },
      "outputs": [
        {
          "output_type": "stream",
          "name": "stdout",
          "text": [
            "{'name': 'John', 'age': 50, 'city': 'kathmandu'}\n",
            "50\n",
            "{'name': 'John', 'age': 50, 'city': 'Los Angeles'}\n"
          ]
        }
      ],
      "source": [
        "# Creation: Create a dictionary with three key-value pairs representing a person's details (e.g., name, age, city).\n",
        "person_details = {\"name\":\"John\", \"age\": 50, \"city\":\"kathmandu\"}\n",
        "print(person_details)\n",
        "\n",
        "# Access: Access the person's age.\n",
        "print(person_details[\"age\"])\n",
        "\n",
        "# Update: Update the person's city to \"Los Angeles\".\n",
        "person_details[\"city\"]= \"Los Angeles\"\n",
        "print(person_details)\n",
        "\n",
        "# Remove: Remove the age key-value pair from the dictionary."
      ]
    },
    {
      "cell_type": "markdown",
      "id": "0bdce265",
      "metadata": {
        "id": "0bdce265"
      },
      "source": [
        "> Submit to the email"
      ]
    },
    {
      "cell_type": "code",
      "execution_count": null,
      "id": "475335d0",
      "metadata": {
        "id": "475335d0"
      },
      "outputs": [],
      "source": []
    }
  ],
  "metadata": {
    "kernelspec": {
      "display_name": "Python 3 (ipykernel)",
      "language": "python",
      "name": "python3"
    },
    "language_info": {
      "codemirror_mode": {
        "name": "ipython",
        "version": 3
      },
      "file_extension": ".py",
      "mimetype": "text/x-python",
      "name": "python",
      "nbconvert_exporter": "python",
      "pygments_lexer": "ipython3",
      "version": "3.10.10"
    },
    "colab": {
      "provenance": []
    }
  },
  "nbformat": 4,
  "nbformat_minor": 5
}